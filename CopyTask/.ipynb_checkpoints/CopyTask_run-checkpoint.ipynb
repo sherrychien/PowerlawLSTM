{
 "cells": [
  {
   "cell_type": "code",
   "execution_count": null,
   "metadata": {},
   "outputs": [],
   "source": [
    "import torch\n",
    "import torch.nn as nn\n",
    "import torch.optim as optim\n",
    "\n",
    "from datasets import CopyTaskDataset\n",
    "from experiment import FunctionExperiment\n",
    "from model import PowerLawLSTM\n",
    "import matplotlib.pyplot as plt\n",
    "from metric import accuracy\n",
    "import pickle\n",
    "%matplotlib inline\n"
   ]
  },
  {
   "cell_type": "code",
   "execution_count": null,
   "metadata": {},
   "outputs": [],
   "source": [
    "# Check if GPU is enabled\n",
    "USE_CUDA = torch.cuda.is_available()\n",
    "# device = torch.device(\"cpu\")\n",
    "device = torch.device(\"cuda\" if USE_CUDA else \"cpu\")\n",
    "print(device)"
   ]
  },
  {
   "cell_type": "code",
   "execution_count": null,
   "metadata": {},
   "outputs": [],
   "source": [
    "rnd_seed=10\n",
    "torch.manual_seed(rnd_seed)\n",
    "\n",
    "p=0.01\n",
    "model_name = 'pLSTM_test'\n",
    "hidden_state_size = 128\n",
    "target_num=10\n",
    "p_range = [0,1]\n",
    "model = PowerLawLSTM(hidden_size = hidden_state_size, input_size = target_num, output_size=target_num, p_range=p_range, learn_p=True, uniform_init=True).to(device)\n",
    "optimizer = optim.RMSprop\n",
    "batch_size = 128\n",
    "max_epochs = 5\n",
    "clip_gradients = 1.0\n",
    "lr = 1e-3"
   ]
  },
  {
   "cell_type": "code",
   "execution_count": null,
   "metadata": {},
   "outputs": [],
   "source": [
    "train_samples = 10000\n",
    "test_samples = 1000\n",
    "T =200\n",
    "seq_length = T+20-1\n",
    "\n",
    "dataset = CopyTaskDataset\n",
    "train_dataset = {\n",
    "    'samples': train_samples,\n",
    "    'T': T,\n",
    "    'seq_length':seq_length,\n",
    "#     'path':'.'\n",
    "}\n",
    "\n",
    "test_dataset = {\n",
    "    'samples': test_samples,\n",
    "    'T': T,\n",
    "    'seq_length':seq_length,\n",
    "#     'path':'.'\n",
    "}"
   ]
  },
  {
   "cell_type": "code",
   "execution_count": null,
   "metadata": {
    "scrolled": true
   },
   "outputs": [],
   "source": [
    "experiment = FunctionExperiment(dataset, model, model_name,optimizer, metric=accuracy, train_data_parameters=train_dataset,\\\n",
    "                        test_data_parameters=test_dataset,batch_size=batch_size, lr=lr, max_epochs=max_epochs, \\\n",
    "                                clip_gradients=clip_gradients, device=device, print_steps=10)\n",
    "\n",
    "\n",
    "results = experiment.train_model()\n"
   ]
  }
 ],
 "metadata": {
  "kernelspec": {
   "display_name": "Python 3",
   "language": "python",
   "name": "python3"
  },
  "language_info": {
   "codemirror_mode": {
    "name": "ipython",
    "version": 3
   },
   "file_extension": ".py",
   "mimetype": "text/x-python",
   "name": "python",
   "nbconvert_exporter": "python",
   "pygments_lexer": "ipython3",
   "version": "3.8.3"
  }
 },
 "nbformat": 4,
 "nbformat_minor": 4
}
